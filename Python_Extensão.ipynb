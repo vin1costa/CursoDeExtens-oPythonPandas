{
  "nbformat": 4,
  "nbformat_minor": 0,
  "metadata": {
    "colab": {
      "provenance": [],
      "mount_file_id": "15Y-9HMyucbNEGnFriefsLJg5VBJ96oMv",
      "authorship_tag": "ABX9TyNvGcqk3hhX2FF5oBoLnyMw",
      "include_colab_link": true
    },
    "kernelspec": {
      "name": "python3",
      "display_name": "Python 3"
    },
    "language_info": {
      "name": "python"
    }
  },
  "cells": [
    {
      "cell_type": "markdown",
      "metadata": {
        "id": "view-in-github",
        "colab_type": "text"
      },
      "source": [
        "<a href=\"https://colab.research.google.com/github/vin1costa/CursoDeExtensaoPythonPandas/blob/main/Python_Extens%C3%A3o.ipynb\" target=\"_parent\"><img src=\"https://colab.research.google.com/assets/colab-badge.svg\" alt=\"Open In Colab\"/></a>"
      ]
    },
    {
      "cell_type": "markdown",
      "source": [
        "**Primeiro exemplo de manipulação de dados usando Python Pandas**"
      ],
      "metadata": {
        "id": "5uBxRcjhUr-z"
      }
    },
    {
      "cell_type": "code",
      "source": [
        "# Importando biblioteca pandas no Python\n",
        "import pandas as pd\n",
        "\n"
      ],
      "metadata": {
        "id": "XjIktZUrVB6j"
      },
      "execution_count": null,
      "outputs": []
    }
  ]
}